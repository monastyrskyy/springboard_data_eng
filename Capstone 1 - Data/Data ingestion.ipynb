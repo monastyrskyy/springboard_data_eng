{
 "cells": [
  {
   "cell_type": "code",
   "execution_count": 8,
   "id": "1d9115f5",
   "metadata": {},
   "outputs": [],
   "source": [
    "import pandas as pd\n",
    "import json"
   ]
  },
  {
   "cell_type": "code",
   "execution_count": null,
   "id": "6b18b620",
   "metadata": {},
   "outputs": [],
   "source": [
    "business = pd.read_json(r'...\\yelp_academic_dataset_business.json', lines=True)\n",
    "checkin = pd.read_json(r'...\\yelp_academic_dataset_checkin.json', lines=True)\n",
    "review = pd.read_json(r'...\\yelp_academic_dataset_review.json', lines=True)\n",
    "tip = pd.read_json(r'...\\yelp_academic_dataset_tip.json', lines=True)\n",
    "user = pd.read_json(r'...\\yelp_academic_dataset_user.json', lines=True)\n"
   ]
  },
  {
   "cell_type": "markdown",
   "id": "2fdee11d",
   "metadata": {},
   "source": [
    "The above cell reads in the Yelp data in a JSON format."
   ]
  },
  {
   "cell_type": "code",
   "execution_count": 3,
   "id": "5f3a0e49",
   "metadata": {},
   "outputs": [],
   "source": [
    "income = pd.read_csv(r'...\\income by zip 2018\\18zpallagi.csv', skiprows=lambda i: i % 100)"
   ]
  },
  {
   "cell_type": "markdown",
   "id": "5b519b47",
   "metadata": {},
   "source": [
    "The above cell reads in the income data in a CSV format. For performance's sake, I'm reading in every hundredth row."
   ]
  }
 ],
 "metadata": {
  "kernelspec": {
   "display_name": "Python 3",
   "language": "python",
   "name": "python3"
  },
  "language_info": {
   "codemirror_mode": {
    "name": "ipython",
    "version": 3
   },
   "file_extension": ".py",
   "mimetype": "text/x-python",
   "name": "python",
   "nbconvert_exporter": "python",
   "pygments_lexer": "ipython3",
   "version": "3.8.8"
  }
 },
 "nbformat": 4,
 "nbformat_minor": 5
}
