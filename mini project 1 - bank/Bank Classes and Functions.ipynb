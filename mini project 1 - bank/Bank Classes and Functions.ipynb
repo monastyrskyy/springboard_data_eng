{
 "cells": [
  {
   "cell_type": "markdown",
   "id": "90229b56",
   "metadata": {},
   "source": [
    "# Libraries"
   ]
  },
  {
   "cell_type": "code",
   "execution_count": 230,
   "id": "80fb7b04",
   "metadata": {},
   "outputs": [],
   "source": [
    "from datetime import datetime\n",
    "import os\n",
    "import pandas as pd\n",
    "import json"
   ]
  },
  {
   "cell_type": "markdown",
   "id": "9c762fa9",
   "metadata": {},
   "source": [
    "# Errors"
   ]
  },
  {
   "cell_type": "code",
   "execution_count": 209,
   "id": "b8d789e8",
   "metadata": {},
   "outputs": [],
   "source": [
    "# custom errors\n",
    "class BalanceError(ValueError): pass\n",
    "class SalaryError(ValueError): pass\n",
    "class SalaryRaiseError(ValueError): pass\n",
    "class CreditError(ValueError): pass"
   ]
  },
  {
   "cell_type": "markdown",
   "id": "788805e9",
   "metadata": {},
   "source": [
    "# Classes"
   ]
  },
  {
   "cell_type": "code",
   "execution_count": 211,
   "id": "db221472",
   "metadata": {},
   "outputs": [],
   "source": [
    "class Customer:\n",
    "\n",
    "    def __init__(self, name, address):\n",
    "        self.created_at = str(datetime.today())\n",
    "        self.name = name\n",
    "        self.address = address\n",
    "        \n",
    "    def display(self): \n",
    "        print(self.name) \n",
    "        print(self.created_at) \n"
   ]
  },
  {
   "cell_type": "code",
   "execution_count": 216,
   "id": "ba16fb35",
   "metadata": {},
   "outputs": [],
   "source": [
    "class Employee:\n",
    "    \n",
    "    _MIN_SALARY = 31200\n",
    "\n",
    "    def __init__(self, name, salary):\n",
    "        self.date_joined = str(datetime.today().strftime('%Y-%m-%d'))\n",
    "        self.name = name\n",
    "        if salary < Employee._MIN_SALARY:\n",
    "            raise SalaryError(\"The salary entered is too low. Please enter the right salary.\")\n",
    "        self.salary = salary\n",
    "        \n",
    "    def display(self): \n",
    "        \n",
    "        print(\"Employee: {}\\nDate joined: {}\\nCurrent salary: ${}\".format(self.name, self.date_joined, self.salary))\n",
    "    \n",
    "    def give_raise(self, amount):\n",
    "        if amount <= 0:\n",
    "            raise SalaryRaiseError(\"The amount must be positive\")\n",
    "        self.salary += amount\n",
    "        print(\"Successfully added. The new salary is ${}\".format(self.salary))\n",
    "        \n"
   ]
  },
  {
   "cell_type": "code",
   "execution_count": 58,
   "id": "5ec00cb0",
   "metadata": {},
   "outputs": [],
   "source": [
    "class Account(Customer):\n",
    "        \n",
    "    _MIN_BALANCE = 100\n",
    "    \n",
    "    def __init__(self, name, address, balance, credit_balance = 0):\n",
    "        \n",
    "        if balance < Account._MIN_BALANCE:\n",
    "            raise BalanceError(\"The balance is too low. Deposit a higher amount to open an account.\")\n",
    "        self.balance = balance\n",
    "        self.credit_balance = credit_balance\n",
    "        Customer.__init__(self, name, address)\n",
    "\n",
    "    def deposit(self, amount):\n",
    "        self.balance += amount\n",
    "        return \"An amount of ${} was deposited to your account. Your new balance is ${}\".format(amount, self.balance)\n",
    "\n",
    "    def withdraw(self, amount):\n",
    "        self.balance -= amount\n",
    "        return \"An amount of ${} was withdrawn from your account. Your new balance is ${}\".format(amount, self.balance)\n",
    "    \n",
    "    def accrue_credit(self, amount):\n",
    "        self.credit_balance += amount\n",
    "        return \"You purchased an item that cotst ${}. This amount was added to your credit balance.\".format(amount)\n",
    "    \n",
    "    def pay_off_credit(self, amount):\n",
    "        if amount > self.credit_balance:\n",
    "            raise CreditError(\"The amount you entered is greater than your current credit balance. Enter a lower amount.\")\n",
    "        self.credit_balance -= amount\n",
    "        return \"You paid off ${} off of your credit card charges. Your new credit balance is ${}\".format(amount, credit_balance)\n",
    "\n",
    "    def display(self): \n",
    "        print(self.name) \n",
    "        print(self.created_at) \n",
    "        print(self.balance)\n",
    "        print(self.)\n",
    "\n",
    "    "
   ]
  },
  {
   "cell_type": "markdown",
   "id": "41715ca9",
   "metadata": {},
   "source": [
    "# Functions"
   ]
  },
  {
   "cell_type": "code",
   "execution_count": 261,
   "id": "d5289b2f",
   "metadata": {},
   "outputs": [],
   "source": [
    "def export_file(list_to_export, class_of_list):\n",
    "    '''\n",
    "    list_to_export is the list of class entries kept in memory\n",
    "    class_of_list is what class the list is; used for naming the json export\n",
    "    '''\n",
    "    x = {}\n",
    "    for idx, i in enumerate(list_to_export):\n",
    "        x[idx] = json.dumps(i.__dict__)\n",
    "    with open('Bank/{}.json'.format(class_of_list), 'w') as f:\n",
    "        json.dump(x, f)"
   ]
  },
  {
   "cell_type": "code",
   "execution_count": 263,
   "id": "dcdb8d11",
   "metadata": {},
   "outputs": [],
   "source": [
    "emp = []\n",
    "emp.append(Employee(\"Rita Johnson\", 50000))\n",
    "emp.append(Employee(\"Steven Gladwell\", 45000))"
   ]
  },
  {
   "cell_type": "code",
   "execution_count": null,
   "id": "7a577631",
   "metadata": {},
   "outputs": [],
   "source": [
    "export_file(emp, Employee):"
   ]
  }
 ],
 "metadata": {
  "kernelspec": {
   "display_name": "Python 3",
   "language": "python",
   "name": "python3"
  },
  "language_info": {
   "codemirror_mode": {
    "name": "ipython",
    "version": 3
   },
   "file_extension": ".py",
   "mimetype": "text/x-python",
   "name": "python",
   "nbconvert_exporter": "python",
   "pygments_lexer": "ipython3",
   "version": "3.8.8"
  }
 },
 "nbformat": 4,
 "nbformat_minor": 5
}
